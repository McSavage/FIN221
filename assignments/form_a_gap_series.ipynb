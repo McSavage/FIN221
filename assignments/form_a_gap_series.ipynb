{
 "cells": [
  {
   "cell_type": "code",
   "execution_count": null,
   "id": "5c8e52d8",
   "metadata": {},
   "outputs": [],
   "source": [
    "import pandas as pd\n",
    "import matplotlib.pyplot as plt\n",
    "import matplotlib.dates as mdates\n",
    "from matplotlib.patches import Rectangle\n",
    "import numpy as np\n",
    "from datetime import datetime\n",
    "\n",
    "\n",
    "def getRolledSeries(pathIn, key='bars/ES_10K'):\n",
    "\tseries=pd.read_hdf(pathIn, key=key)\n",
    "    series['Time'] = pd.to_datetime(series['Time'].format('%Y-%m-%d %H:%M:%S%f'))\n",
    "    series=series.set_index('Time')\n",
    "    gaps=rollGaps(series)\n",
    "    for fld in ['Close', 'VWAP']:series[fld]-=gaps\n",
    "    return series\n",
    "\n",
    "def rollGaps(series,dictio={'Instrument':'FUT_CUR_GEN_TICKERS','Open':'PX_OPEN','Close':'PX_LAST'},matchEnd=True):\n",
    "    #compite gaps at each roll, between previous close and next open\n",
    "    rollDates=series[dictio['Instrument']].drop_duplicates(keep='first').index\n",
    "    gaps=series[dictio['Close']]*0\n",
    "    iloc=list(series.index)\n",
    "    iloc=[iloc.index(i)-1 for i in rollDates])\n",
    "    gaps.loc[rollDates[1:]]=series[dictio['Open']].loc[rollDates[1:]]-series[dictio['Close']].iloc[iloc[:-1]].values\n",
    "    gaps=gaps.cumsum()\n",
    "    if matchEnd:\n",
    "        gaps-=gaps.iloc[-1]\n",
    "    return gaps\n"
   ]
  }
 ],
 "metadata": {
  "kernelspec": {
   "display_name": "base",
   "language": "python",
   "name": "python3"
  },
  "language_info": {
   "name": "python",
   "version": "3.13.5"
  }
 },
 "nbformat": 4,
 "nbformat_minor": 5
}
